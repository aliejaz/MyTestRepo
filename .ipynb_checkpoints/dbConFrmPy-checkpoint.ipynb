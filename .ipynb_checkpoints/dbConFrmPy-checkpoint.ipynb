{
 "cells": [
  {
   "cell_type": "code",
   "execution_count": 1,
   "metadata": {
    "collapsed": true
   },
   "outputs": [],
   "source": [
    "from cassandra.cluster import Cluster"
   ]
  },
  {
   "cell_type": "code",
   "execution_count": 6,
   "metadata": {
    "collapsed": false
   },
   "outputs": [
    {
     "ename": "NoHostAvailable",
     "evalue": "('Unable to connect to any servers', {'127.0.0.1': error(111, \"Tried connecting to [('127.0.0.1', 9842)]. Last error: Connection refused\")})",
     "output_type": "error",
     "traceback": [
      "\u001b[0;31m---------------------------------------------------------------------------\u001b[0m",
      "\u001b[0;31mNoHostAvailable\u001b[0m                           Traceback (most recent call last)",
      "\u001b[0;32m<ipython-input-6-54a77d1cd9da>\u001b[0m in \u001b[0;36m<module>\u001b[0;34m()\u001b[0m\n\u001b[1;32m      1\u001b[0m \u001b[0mcluster\u001b[0m \u001b[0;34m=\u001b[0m \u001b[0mCluster\u001b[0m\u001b[0;34m(\u001b[0m\u001b[0;34m[\u001b[0m\u001b[0;34m'127.0.0.1'\u001b[0m\u001b[0;34m]\u001b[0m\u001b[0;34m,\u001b[0m \u001b[0mport\u001b[0m\u001b[0;34m=\u001b[0m\u001b[0;36m9842\u001b[0m\u001b[0;34m)\u001b[0m\u001b[0;34m\u001b[0m\u001b[0m\n\u001b[0;32m----> 2\u001b[0;31m \u001b[0msession\u001b[0m \u001b[0;34m=\u001b[0m \u001b[0mcluster\u001b[0m\u001b[0;34m.\u001b[0m\u001b[0mconnect\u001b[0m\u001b[0;34m(\u001b[0m\u001b[0;34m)\u001b[0m\u001b[0;34m\u001b[0m\u001b[0m\n\u001b[0m\u001b[1;32m      3\u001b[0m \u001b[0;32mprint\u001b[0m \u001b[0;34m(\u001b[0m\u001b[0;34m\"Connected!\"\u001b[0m\u001b[0;34m)\u001b[0m\u001b[0;34m\u001b[0m\u001b[0m\n\u001b[1;32m      4\u001b[0m \u001b[0msession\u001b[0m\u001b[0;34m.\u001b[0m\u001b[0mset_keyspace\u001b[0m\u001b[0;34m(\u001b[0m\u001b[0;34m'mydb'\u001b[0m\u001b[0;34m)\u001b[0m\u001b[0;34m\u001b[0m\u001b[0m\n\u001b[1;32m      5\u001b[0m \u001b[0;34m\u001b[0m\u001b[0m\n",
      "\u001b[0;32m/home/aliejaz/Documents/PythonVirtualEnv/dih_learn/local/lib/python2.7/site-packages/cassandra/cluster.so\u001b[0m in \u001b[0;36mcassandra.cluster.Cluster.connect (cassandra/cluster.c:17598)\u001b[0;34m()\u001b[0m\n",
      "\u001b[0;32m/home/aliejaz/Documents/PythonVirtualEnv/dih_learn/local/lib/python2.7/site-packages/cassandra/cluster.so\u001b[0m in \u001b[0;36mcassandra.cluster.Cluster.connect (cassandra/cluster.c:17419)\u001b[0;34m()\u001b[0m\n",
      "\u001b[0;32m/home/aliejaz/Documents/PythonVirtualEnv/dih_learn/local/lib/python2.7/site-packages/cassandra/cluster.so\u001b[0m in \u001b[0;36mcassandra.cluster.Cluster.connect (cassandra/cluster.c:17122)\u001b[0;34m()\u001b[0m\n",
      "\u001b[0;32m/home/aliejaz/Documents/PythonVirtualEnv/dih_learn/local/lib/python2.7/site-packages/cassandra/cluster.so\u001b[0m in \u001b[0;36mcassandra.cluster.ControlConnection.connect (cassandra/cluster.c:47646)\u001b[0;34m()\u001b[0m\n",
      "\u001b[0;32m/home/aliejaz/Documents/PythonVirtualEnv/dih_learn/local/lib/python2.7/site-packages/cassandra/cluster.so\u001b[0m in \u001b[0;36mcassandra.cluster.ControlConnection._reconnect_internal (cassandra/cluster.c:48543)\u001b[0;34m()\u001b[0m\n",
      "\u001b[0;31mNoHostAvailable\u001b[0m: ('Unable to connect to any servers', {'127.0.0.1': error(111, \"Tried connecting to [('127.0.0.1', 9842)]. Last error: Connection refused\")})"
     ]
    }
   ],
   "source": [
    "cluster = Cluster(['127.0.0.1'], port=9842)\n",
    "session = cluster.connect()\n",
    "print (\"Connected!\")\n",
    "session.set_keyspace('mydb')\n",
    "\n",
    "data = session.execute(\"select * from books;\")\n",
    "for row in data:\n",
    "    for r in row:\n",
    "        print row\n",
    "cluster.shutdown()"
   ]
  },
  {
   "cell_type": "code",
   "execution_count": null,
   "metadata": {
    "collapsed": true
   },
   "outputs": [],
   "source": []
  }
 ],
 "metadata": {
  "kernelspec": {
   "display_name": "Python 2",
   "language": "python",
   "name": "python2"
  },
  "language_info": {
   "codemirror_mode": {
    "name": "ipython",
    "version": 2
   },
   "file_extension": ".py",
   "mimetype": "text/x-python",
   "name": "python",
   "nbconvert_exporter": "python",
   "pygments_lexer": "ipython2",
   "version": "2.7.12"
  }
 },
 "nbformat": 4,
 "nbformat_minor": 2
}
